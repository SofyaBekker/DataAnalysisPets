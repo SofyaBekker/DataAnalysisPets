{
  "nbformat": 4,
  "nbformat_minor": 0,
  "metadata": {
    "colab": {
      "provenance": []
    },
    "kernelspec": {
      "name": "python3",
      "display_name": "Python 3"
    },
    "language_info": {
      "name": "python"
    }
  },
  "cells": [
    {
      "cell_type": "code",
      "execution_count": null,
      "metadata": {
        "id": "ZU4zy7rT2SNd"
      },
      "outputs": [],
      "source": [
        "#установка\n",
        "!apt-get install openjdk-8-jdk-headless -qq > /dev/null\n",
        "!wget -q https://dlcdn.apache.org/spark/spark-3.3.1/spark-3.3.1-bin-hadoop3.tgz\n",
        "!tar xf spark-3.3.1-bin-hadoop3.tgz\n",
        "!pip install -q findspark"
      ]
    },
    {
      "cell_type": "code",
      "source": [
        "#установка переменных окружения\n",
        "import os\n",
        "os.environ[\"JAVA_HOME\"] = \"/usr/lib/jvm/java-8-openjdk-amd64\"\n",
        "os.environ[\"SPARK_HOME\"] = \"/content/spark-3.3.1-bin-hadoop3\"\n",
        "\n",
        "#создание спарк сессии\n",
        "import findspark\n",
        "findspark.init()\n",
        "from pyspark.sql import SparkSession\n",
        "spark = SparkSession.builder.master(\"local[*]\").getOrCreate()"
      ],
      "metadata": {
        "id": "2S01nfnW3-tV"
      },
      "execution_count": null,
      "outputs": []
    },
    {
      "cell_type": "code",
      "source": [
        "#подвязка кегля\n",
        "!rm -rf /root/.kaggle/\n",
        "!mkdir /root/.kaggle\n",
        "!touch /root/.kaggle/kaggle.json\n",
        "\n",
        "!echo '{\"username\":\"***\",\"key\":\"***\"}' >> /root/.kaggle/kaggle.json\n",
        "!chmod 600 ~/.kaggle/kaggle.json\n"
      ],
      "metadata": {
        "id": "MKx12bZ-5uH9"
      },
      "execution_count": null,
      "outputs": []
    },
    {
      "cell_type": "code",
      "source": [
        "#скачиваем датасет\n",
        "!kaggle datasets download -d yasirabdaali/corona-virus-covid19-us-counties\n",
        "!unzip -q corona-virus-covid19-us-counties.zip"
      ],
      "metadata": {
        "colab": {
          "base_uri": "https://localhost:8080/"
        },
        "id": "E3kMmgY86a5V",
        "outputId": "21f89b69-a432-4984-93e0-4f1d9a3804b9"
      },
      "execution_count": null,
      "outputs": [
        {
          "output_type": "stream",
          "name": "stdout",
          "text": [
            "Downloading corona-virus-covid19-us-counties.zip to /content\n",
            " 97% 73.0M/75.3M [00:04<00:00, 24.2MB/s]\n",
            "100% 75.3M/75.3M [00:04<00:00, 16.8MB/s]\n"
          ]
        }
      ]
    },
    {
      "cell_type": "code",
      "source": [
        "data = spark.read.option(\"delimiter\", \";\").csv(\n",
        "    'coronavirus-covid-19-pandemic-usa-counties.csv',\n",
        "        inferSchema=True, header=True, )\n"
      ],
      "metadata": {
        "id": "hw4xgqCa6rzL"
      },
      "execution_count": null,
      "outputs": []
    },
    {
      "cell_type": "code",
      "source": [
        "data.show(5)"
      ],
      "metadata": {
        "colab": {
          "base_uri": "https://localhost:8080/"
        },
        "id": "H3eggc0uLSar",
        "outputId": "dc9b0482-b18e-467f-856c-923705024f75"
      },
      "execution_count": null,
      "outputs": [
        {
          "output_type": "stream",
          "name": "stdout",
          "text": [
            "+-----------------+--------------+------------------------------------------+-------------------+-----------+---------------+--------------------+\n",
            "|Admin 2 FIPS Code|Province/State|Admin 2 Level (City/County/Borough/Region)|               Date|Total Death|Total Confirmed|            location|\n",
            "+-----------------+--------------+------------------------------------------+-------------------+-----------+---------------+--------------------+\n",
            "|            12119|       Florida|                                    Sumter|2020-01-31 00:00:00|          0|              0|28.70181754,-82.0...|\n",
            "|            13153|       Georgia|                                   Houston|2020-01-31 00:00:00|          0|              0|32.45802497,-83.6...|\n",
            "|            13227|       Georgia|                                   Pickens|2020-01-31 00:00:00|          0|              0|34.46589159,-84.4...|\n",
            "|            13303|       Georgia|                                Washington|2020-01-31 00:00:00|          0|              0|32.96711864,-82.7...|\n",
            "|            16003|         Idaho|                                     Adams|2020-01-31 00:00:00|          0|              0|44.89333571,-116....|\n",
            "+-----------------+--------------+------------------------------------------+-------------------+-----------+---------------+--------------------+\n",
            "only showing top 5 rows\n",
            "\n"
          ]
        }
      ]
    },
    {
      "cell_type": "code",
      "source": [
        "# в data группировать элементы по group с максимумом по maxim, asc = true - по возрастанию\n",
        "def groupedMax (data, group, maxcol, asc = True):\n",
        "  groupedData = data.groupBy(group).max(maxcol)\n",
        "  orderstr = 'max(' + maxcol + ')'\n",
        "  return groupedData.orderBy(orderstr, ascending = asc)\n"
      ],
      "metadata": {
        "id": "2aVYGbooipmp"
      },
      "execution_count": null,
      "outputs": []
    },
    {
      "cell_type": "code",
      "source": [
        "# Общая смертность по штатам\n",
        "\n",
        "# max\n",
        "deathGroupedStateDesc = groupedMax (data, 'Province/State', 'Total Death', False)\n",
        "deathGroupedStateDesc.show()\n",
        "# min\n",
        "deathGroupedState =  groupedMax (data, 'Province/State', 'Total Death')\n",
        "deathGroupedState.show()\n"
      ],
      "metadata": {
        "id": "0DldjzNNYVi-",
        "colab": {
          "base_uri": "https://localhost:8080/"
        },
        "outputId": "a1dcc994-1134-484c-fdc4-cd5407204af7"
      },
      "execution_count": null,
      "outputs": [
        {
          "output_type": "stream",
          "name": "stdout",
          "text": [
            "+--------------+----------------+\n",
            "|Province/State|max(Total Death)|\n",
            "+--------------+----------------+\n",
            "|    California|           32991|\n",
            "|       Arizona|           17726|\n",
            "|      Illinois|           14678|\n",
            "|      New York|           13217|\n",
            "|       Florida|           11438|\n",
            "|         Texas|           11203|\n",
            "|        Nevada|            8878|\n",
            "|      Michigan|            8267|\n",
            "|  Pennsylvania|            5235|\n",
            "| Massachusetts|            4220|\n",
            "|          Ohio|            3888|\n",
            "|    New Jersey|            3662|\n",
            "|     Tennessee|            3445|\n",
            "|      Missouri|            3434|\n",
            "|   Connecticut|            3232|\n",
            "|    Washington|            3065|\n",
            "|       Indiana|            3063|\n",
            "|     Minnesota|            2671|\n",
            "|  Rhode Island|            2590|\n",
            "|      Maryland|            2587|\n",
            "+--------------+----------------+\n",
            "only showing top 20 rows\n",
            "\n",
            "+--------------------+----------------+\n",
            "|      Province/State|max(Total Death)|\n",
            "+--------------------+----------------+\n",
            "|    Diamond Princess|               0|\n",
            "|      Grand Princess|               3|\n",
            "|      American Samoa|              33|\n",
            "|Northern Mariana ...|              39|\n",
            "|      Virgin Islands|             122|\n",
            "|             Vermont|             185|\n",
            "|             Wyoming|             302|\n",
            "|        North Dakota|             333|\n",
            "|                Guam|             390|\n",
            "|               Maine|             399|\n",
            "|        South Dakota|             529|\n",
            "|              Alaska|             561|\n",
            "|             Montana|             571|\n",
            "|         Puerto Rico|             591|\n",
            "|       West Virginia|             771|\n",
            "|         Mississippi|             812|\n",
            "|       New Hampshire|             949|\n",
            "|            Nebraska|            1052|\n",
            "|               Idaho|            1053|\n",
            "|                Iowa|            1142|\n",
            "+--------------------+----------------+\n",
            "only showing top 20 rows\n",
            "\n"
          ]
        }
      ]
    },
    {
      "cell_type": "code",
      "source": [
        "# Общее количество выявленных случаев по штатам\n",
        "\n",
        "# max\n",
        "confirmedGroupedStateDesc = groupedMax (data, 'Province/State', 'Total Confirmed', False)\n",
        "confirmedGroupedStateDesc.show()\n",
        "# min\n",
        "confirmedGroupedState =  groupedMax (data, 'Province/State', 'Total Confirmed')\n",
        "confirmedGroupedState.show()"
      ],
      "metadata": {
        "id": "7bx896AxeW4l",
        "colab": {
          "base_uri": "https://localhost:8080/"
        },
        "outputId": "cf824a79-ab4e-4d1d-8bca-794fdbd29e18"
      },
      "execution_count": null,
      "outputs": [
        {
          "output_type": "stream",
          "name": "stdout",
          "text": [
            "+--------------+--------------------+\n",
            "|Province/State|max(Total Confirmed)|\n",
            "+--------------+--------------------+\n",
            "|    California|             3371673|\n",
            "|       Florida|             1423397|\n",
            "|       Arizona|             1406462|\n",
            "|      Illinois|             1365920|\n",
            "|         Texas|             1183040|\n",
            "|      New York|              832986|\n",
            "|        Nevada|              634733|\n",
            "|    Washington|              502247|\n",
            "|      Michigan|              467424|\n",
            "| Massachusetts|              395054|\n",
            "|          Utah|              384005|\n",
            "|North Carolina|              354785|\n",
            "|  Pennsylvania|              354168|\n",
            "|     Minnesota|              350741|\n",
            "|          Ohio|              330677|\n",
            "|     Wisconsin|              308249|\n",
            "|    New Jersey|              279188|\n",
            "|     Tennessee|              265511|\n",
            "|      Kentucky|              259472|\n",
            "|      Missouri|              258895|\n",
            "+--------------+--------------------+\n",
            "only showing top 20 rows\n",
            "\n",
            "+--------------------+--------------------+\n",
            "|      Province/State|max(Total Confirmed)|\n",
            "+--------------------+--------------------+\n",
            "|    Diamond Princess|                  49|\n",
            "|      Grand Princess|                 103|\n",
            "|      American Samoa|                8042|\n",
            "|Northern Mariana ...|               12948|\n",
            "|      Virgin Islands|               22326|\n",
            "|             Wyoming|               29549|\n",
            "|             Vermont|               37090|\n",
            "|             Montana|               46868|\n",
            "|       West Virginia|               53925|\n",
            "|                Guam|               57206|\n",
            "|               Maine|               58890|\n",
            "|        South Dakota|               60427|\n",
            "|         Mississippi|               61010|\n",
            "|        North Dakota|               65317|\n",
            "|         Puerto Rico|               85463|\n",
            "|       New Hampshire|              109930|\n",
            "|            Arkansas|              117387|\n",
            "|              Alaska|              118374|\n",
            "|           Louisiana|              130827|\n",
            "|                Iowa|              137411|\n",
            "+--------------------+--------------------+\n",
            "only showing top 20 rows\n",
            "\n"
          ]
        }
      ]
    },
    {
      "cell_type": "code",
      "source": [
        "# rdd total\n",
        "def createColRDD (data, colName):\n",
        "  total = data.rdd.map(lambda x: x[colName])\n",
        "  return total.reduce(lambda x, y: x + y)"
      ],
      "metadata": {
        "id": "Ka3bhZ4eBJgO"
      },
      "execution_count": null,
      "outputs": []
    },
    {
      "cell_type": "code",
      "source": [
        "# общее количество смертей и случаев заражения, процент смертности по всей стране\n",
        "totalDeath = createColRDD (deathGroupedState, 'max(Total Death)')\n",
        "print( 'Total Death: ', totalDeath)\n",
        "\n",
        "totalConfirmed = createColRDD (confirmedGroupedState, 'max(Total Confirmed)')\n",
        "print('Total Comfirmed Cases: ', totalConfirmed)\n",
        "\n",
        "mortalityRate = totalDeath / totalConfirmed\n",
        "print('Mortality Rate: %.3f' % mortalityRate)"
      ],
      "metadata": {
        "id": "FyY1V3ZetOLr",
        "colab": {
          "base_uri": "https://localhost:8080/"
        },
        "outputId": "8c272bab-ad6c-44d6-a692-34e856e81a47"
      },
      "execution_count": null,
      "outputs": [
        {
          "output_type": "stream",
          "name": "stdout",
          "text": [
            "Total Death:  201821\n",
            "Total Comfirmed Cases:  19590737\n",
            "Mortality Rate: 0.010\n"
          ]
        }
      ]
    },
    {
      "cell_type": "code",
      "source": [
        "from pyspark.sql.types import *\n",
        "from pyspark.sql import Window\n",
        "from pyspark.sql import functions as F"
      ],
      "metadata": {
        "id": "9AfxU7EkIx2b"
      },
      "execution_count": null,
      "outputs": []
    },
    {
      "cell_type": "code",
      "source": [
        "# Проценст смертности и случаев заражения по штатам\n",
        "mortalityPercentState = deathGroupedStateDesc.withColumn('Mortality Percent', F.col('max(Total Death)') / totalDeath )\n",
        "mortalityPercentState.show()\n",
        "\n",
        "сonfirmedCasesPercent = confirmedGroupedStateDesc.withColumn('Confirmed Сases Percent', F.col('max(Total Confirmed)') / totalConfirmed )\n",
        "сonfirmedCasesPercent.show()"
      ],
      "metadata": {
        "colab": {
          "base_uri": "https://localhost:8080/"
        },
        "id": "S42aRoJc7tNj",
        "outputId": "b5de67d8-44be-4151-e24a-1969d1e1540c"
      },
      "execution_count": null,
      "outputs": [
        {
          "output_type": "stream",
          "name": "stdout",
          "text": [
            "+--------------+----------------+--------------------+\n",
            "|Province/State|max(Total Death)|   Mortality Percent|\n",
            "+--------------+----------------+--------------------+\n",
            "|    California|           32991| 0.16346663627670063|\n",
            "|       Arizona|           17726| 0.08783030507231655|\n",
            "|      Illinois|           14678| 0.07272781326026528|\n",
            "|      New York|           13217|  0.0654887251574415|\n",
            "|       Florida|           11438|0.056673983381313145|\n",
            "|         Texas|           11203|  0.0555095852265126|\n",
            "|        Nevada|            8878| 0.04398947582263491|\n",
            "|      Michigan|            8267|  0.0409620406201535|\n",
            "|  Pennsylvania|            5235|0.025938826980343967|\n",
            "| Massachusetts|            4220| 0.02090961792875865|\n",
            "|          Ohio|            3888|0.019264595854742567|\n",
            "|    New Jersey|            3662|0.018144791671828007|\n",
            "|     Tennessee|            3445| 0.01706958146079942|\n",
            "|      Missouri|            3434|0.017015077717383226|\n",
            "|   Connecticut|            3232| 0.01601419079283127|\n",
            "|    Washington|            3065|0.015186724870058121|\n",
            "|       Indiana|            3063|0.015176815098527903|\n",
            "|     Minnesota|            2671|0.013234499878605298|\n",
            "|  Rhode Island|            2590|0.012833154131631495|\n",
            "|      Maryland|            2587| 0.01281828947433617|\n",
            "+--------------+----------------+--------------------+\n",
            "only showing top 20 rows\n",
            "\n",
            "+--------------+--------------------+-----------------------+\n",
            "|Province/State|max(Total Confirmed)|Confirmed Сases Percent|\n",
            "+--------------+--------------------+-----------------------+\n",
            "|    California|             3371673|    0.17210547004944224|\n",
            "|       Florida|             1423397|    0.07265663359168162|\n",
            "|       Arizona|             1406462|    0.07179219444373124|\n",
            "|      Illinois|             1365920|    0.06972274703090547|\n",
            "|         Texas|             1183040|     0.0603877230346158|\n",
            "|      New York|              832986|    0.04251938046026548|\n",
            "|        Nevada|              634733|    0.03239964887487388|\n",
            "|    Washington|              502247|    0.02563696301981901|\n",
            "|      Michigan|              467424|    0.02385943928500495|\n",
            "| Massachusetts|              395054|   0.020165346510445218|\n",
            "|          Utah|              384005|    0.01960135547733605|\n",
            "|North Carolina|              354785|    0.01810983425483176|\n",
            "|  Pennsylvania|              354168|   0.018078339778641303|\n",
            "|     Minnesota|              350741|     0.0179034101677747|\n",
            "|          Ohio|              330677|    0.01687925267946785|\n",
            "|     Wisconsin|              308249|   0.015734425917718155|\n",
            "|    New Jersey|              279188|   0.014251020775788067|\n",
            "|     Tennessee|              265511|   0.013552884712810957|\n",
            "|      Kentucky|              259472|   0.013244626784587023|\n",
            "|      Missouri|              258895|   0.013215174089673093|\n",
            "+--------------+--------------------+-----------------------+\n",
            "only showing top 20 rows\n",
            "\n"
          ]
        }
      ]
    },
    {
      "cell_type": "code",
      "source": [
        "# процент смертности по штатам\n",
        "mortalityRateState = deathGroupedStateDesc.join(confirmedGroupedStateDesc, 'Province/State')\n",
        "mortalityRateState = mortalityRateState.withColumn('Mortality Rate', F.col('max(Total Death)') / F.col('max(Total Confirmed)'))\n",
        "mortalityRateState.orderBy('Mortality Rate', ascending = False).show()\n"
      ],
      "metadata": {
        "colab": {
          "base_uri": "https://localhost:8080/"
        },
        "id": "m0aax4WAsA2v",
        "outputId": "2ad5f429-6edd-4bb6-b9e7-54bc86268592"
      },
      "execution_count": null,
      "outputs": [
        {
          "output_type": "stream",
          "name": "stdout",
          "text": [
            "+--------------+----------------+--------------------+--------------------+\n",
            "|Province/State|max(Total Death)|max(Total Confirmed)|      Mortality Rate|\n",
            "+--------------+----------------+--------------------+--------------------+\n",
            "|Grand Princess|               3|                 103| 0.02912621359223301|\n",
            "|      Michigan|            8267|              467424| 0.01768629766550284|\n",
            "|      New York|           13217|              832986|0.015867013371173105|\n",
            "|  Pennsylvania|            5235|              354168|0.014781120824015722|\n",
            "| West Virginia|             771|               53925|0.014297635605006954|\n",
            "|        Nevada|            8878|              634733|0.013986983503299813|\n",
            "|   Connecticut|            3232|              237555|0.013605270358443307|\n",
            "|   Mississippi|             812|               61010|0.013309293558433044|\n",
            "|      Missouri|            3434|              258895|0.013264064582166515|\n",
            "|    New Jersey|            3662|              279188| 0.01311660959640099|\n",
            "|     Tennessee|            3445|              265511|0.012974980320965987|\n",
            "|       Arizona|           17726|             1406462|0.012603255544764096|\n",
            "|       Indiana|            3063|              249040|0.012299229039511726|\n",
            "|       Montana|             571|               46868|0.012183152684134163|\n",
            "|      Maryland|            2587|              215577|0.012000352542247086|\n",
            "|          Ohio|            3888|              330677|0.011757697088095029|\n",
            "|    New Mexico|            2042|              176031|0.011600229505030363|\n",
            "|       Alabama|            2409|              211376|0.011396752706078268|\n",
            "|      Oklahoma|            2517|              221479|0.011364508599009386|\n",
            "|South Carolina|            2036|              188631|0.010793559913269824|\n",
            "+--------------+----------------+--------------------+--------------------+\n",
            "only showing top 20 rows\n",
            "\n"
          ]
        }
      ]
    },
    {
      "cell_type": "code",
      "source": [
        "def deltaInDay (data, colName):\n",
        "  # создание rdd ключ: (Штат, Дата), общая смертность/выявленность\n",
        "  dataStateDate = data.rdd.map(lambda x: ((x['Province/State'], x['Date']), (x[colName])))\n",
        "\n",
        "  # считаем общую смертность/выявленность в день по штатам\n",
        "  datata = dataStateDate.reduceByKey(lambda x,y: x + y)\n",
        "\n",
        "  sorted = datata.sortBy(lambda x: x[0])\n",
        "  dfSchema = schema = StructType([\n",
        "    StructField('StateDate', StructType([\n",
        "        StructField('State', StringType(), True),\n",
        "        StructField('Date', DateType(), True)])),\n",
        "    StructField(colName, LongType(), True)\n",
        "  ])\n",
        "\n",
        "  df = sorted.toDF(dfSchema)\n",
        "\n",
        "  w = Window.partitionBy(F.col('StateDate.State')).orderBy(F.col('StateDate.Date'))\n",
        "\n",
        "\n",
        "  cond = F.col('StateDate.State') == F.lag(F.col('StateDate.State'), 1).over(w)\n",
        "  df1 = df.withColumn(\"prev\",F.when(cond ,F.lag(F.col(colName), 1).over(w))) \\\n",
        "      .withColumn(\"delta\", F.col(colName) - F.col(\"prev\"))\n",
        "  return df1"
      ],
      "metadata": {
        "id": "ebl_57vM7Ffg"
      },
      "execution_count": null,
      "outputs": []
    },
    {
      "cell_type": "code",
      "source": [
        "# функция поиска случаев за день по штатам\n",
        "\n",
        "def totalInDay (data, colName):\n",
        "\n",
        "  df1 = deltaInDay (data, colName)\n",
        "\n",
        "  dfSchema1 = schema = StructType([\n",
        "    StructField('State', StringType(), True),\n",
        "    StructField('Date', DateType(), True),\n",
        "    StructField('max(delta) ', LongType(), True)\n",
        "  ])\n",
        "\n",
        "  maxD = groupedMax(df1, 'StateDate', 'delta', False)\n",
        "\n",
        "  maxDelta = maxD.withColumn('State', F.col('StateDate.State'))\n",
        "  maxDelta = maxDelta.withColumn('Date', F.col('StateDate.Date'))\n",
        "\n",
        "  maxDelta = maxDelta.drop('StateDate')\n",
        "\n",
        "  dop = maxDelta.groupBy('State').max('max(delta)')\n",
        "\n",
        "  res = maxDelta.join(dop, 'State')\n",
        "\n",
        "  res = res.select('State', 'Date', 'max(delta)').filter( (F.col('max(max(delta))') == F.col('max(delta)')) & (F.col('max(delta)') != 0) ).sort('max(delta)', ascending=False)\n",
        "\n",
        "  return res\n"
      ],
      "metadata": {
        "id": "jkLAhdh-AzkZ"
      },
      "execution_count": null,
      "outputs": []
    },
    {
      "cell_type": "code",
      "source": [
        "# максимальное число смертей за день по штатам\n",
        "resDeath = totalInDay(data, 'Total Death')\n",
        "resDeath.show()\n",
        "\n",
        "# максимальное число выявленных случаев за день по штатам\n",
        "resConfirmed = totalInDay(data, 'Total Confirmed')\n",
        "resConfirmed.show()"
      ],
      "metadata": {
        "colab": {
          "base_uri": "https://localhost:8080/"
        },
        "id": "wD_bBcfEK4OL",
        "outputId": "22551544-0d60-49f2-93d2-362d2f9a71aa"
      },
      "execution_count": null,
      "outputs": [
        {
          "output_type": "stream",
          "name": "stdout",
          "text": [
            "+--------------+----------+----------+\n",
            "|         State|      Date|max(delta)|\n",
            "+--------------+----------+----------+\n",
            "|       Florida|2022-01-12|     25531|\n",
            "|      New York|2020-05-18|      4448|\n",
            "|      Missouri|2021-12-02|      2441|\n",
            "|     Tennessee|2021-12-22|      2079|\n",
            "|    New Jersey|2020-06-25|      1796|\n",
            "|   Puerto Rico|2021-07-23|      1786|\n",
            "|      Oklahoma|2021-04-07|      1716|\n",
            "|         Texas|2021-10-13|      1175|\n",
            "|North Carolina|2022-05-04|      1172|\n",
            "|    California|2021-02-24|      1165|\n",
            "|      Nebraska|2022-04-01|      1150|\n",
            "|       Indiana|2022-04-01|       979|\n",
            "| Massachusetts|2020-04-25|       764|\n",
            "|      Michigan|2022-01-19|       566|\n",
            "|      Maryland|2021-05-27|       549|\n",
            "|       Georgia|2020-11-03|       479|\n",
            "|          Iowa|2020-12-11|       469|\n",
            "|       Arizona|2022-03-16|       457|\n",
            "|      Kentucky|2021-03-18|       448|\n",
            "|      Virginia|2022-02-07|       404|\n",
            "+--------------+----------+----------+\n",
            "only showing top 20 rows\n",
            "\n",
            "+--------------+----------+----------+\n",
            "|         State|      Date|max(delta)|\n",
            "+--------------+----------+----------+\n",
            "|       Florida|2022-01-15|    429312|\n",
            "|    California|2022-01-16|    207087|\n",
            "|      New York|2022-01-03|    132093|\n",
            "|North Carolina|2022-01-18|    122036|\n",
            "|      Michigan|2022-01-19|     98924|\n",
            "|       Georgia|2022-01-10|     95271|\n",
            "|      Illinois|2022-01-18|     93337|\n",
            "|         Texas|2022-01-21|     86089|\n",
            "|     Wisconsin|2022-01-17|     83187|\n",
            "|      Oklahoma|2022-01-26|     77270|\n",
            "|South Carolina|2022-01-18|     72445|\n",
            "|      Missouri|2021-03-11|     69505|\n",
            "|    Washington|2022-01-18|     63970|\n",
            "| Massachusetts|2022-01-10|     60811|\n",
            "|     Louisiana|2022-01-26|     60746|\n",
            "|      Virginia|2022-01-10|     57703|\n",
            "|       Arizona|2022-01-17|     54668|\n",
            "|       Alabama|2022-01-16|     51856|\n",
            "|      Colorado|2022-01-10|     51098|\n",
            "|          Ohio|2022-01-15|     50299|\n",
            "+--------------+----------+----------+\n",
            "only showing top 20 rows\n",
            "\n"
          ]
        }
      ]
    },
    {
      "cell_type": "code",
      "source": [
        "import pyspark.sql.functions as sqlF\n",
        "\n",
        "# общий показатель colName за год\n",
        "def totalInYear (dataYear, colName):\n",
        "\n",
        "  w = Window.orderBy('year')\n",
        "\n",
        "  df1 = dataYear.withColumn('prev', F.lag(F.col(colName)).over(w))\n",
        "\n",
        "  df1 = df1.withColumn('Count', F.when(F.col('prev').isNull(), F.col(colName)).otherwise(F.col(colName) - F.col('prev')))\n",
        "\n",
        "  df1 = df1.drop('prev')\n",
        "\n",
        "  return df1\n"
      ],
      "metadata": {
        "id": "_XEh9xXJzQpI"
      },
      "execution_count": null,
      "outputs": []
    },
    {
      "cell_type": "code",
      "source": [
        "# общая смертность за год\n",
        "dataYear = data.withColumn('year', sqlF.year(F.col('Date')))\n",
        "dataYearDeath = dataYear.groupBy('year', 'Province/State').max('Total Death').withColumnRenamed('max(Total Death)', 'Total Death')\n",
        "dataYearDeath1 = dataYearDeath.groupBy('year').sum('Total Death').withColumnRenamed('sum(Total Death)', 'year Total Death')\n",
        "dataYearDeath1 = totalInYear (dataYearDeath1, 'year Total Death')\n",
        "\n",
        "dataYearDeath1.show()\n",
        "\n",
        "# общее количество выявленных случаев за год\n",
        "dataYearConfirmed = dataYear.groupBy('year', 'Province/State').max('Total Confirmed').withColumnRenamed('max(Total Confirmed)', 'Total Confirmed')\n",
        "dataYearConfirmed1 = dataYearConfirmed.groupBy('year').sum('Total Confirmed').withColumnRenamed('sum(Total Confirmed)', 'year Total Confirmed')\n",
        "dataYearConfirmed1 = totalInYear (dataYearConfirmed1, 'year Total Confirmed')\n",
        "\n",
        "dataYearConfirmed1.show()\n"
      ],
      "metadata": {
        "colab": {
          "base_uri": "https://localhost:8080/"
        },
        "id": "P_NyMkZoaOm1",
        "outputId": "b6f24643-499f-436c-fbc4-107ed56ee158"
      },
      "execution_count": null,
      "outputs": [
        {
          "output_type": "stream",
          "name": "stdout",
          "text": [
            "+----+----------------+-----+\n",
            "|year|year Total Death|Count|\n",
            "+----+----------------+-----+\n",
            "|2020|           77407|77407|\n",
            "|2021|          159255|81848|\n",
            "|2022|          201230|41975|\n",
            "+----+----------------+-----+\n",
            "\n",
            "+----+--------------------+-------+\n",
            "|year|year Total Confirmed|  Count|\n",
            "+----+--------------------+-------+\n",
            "|2020|             4444999|4444999|\n",
            "|2021|            11113602|6668603|\n",
            "|2022|            19590737|8477135|\n",
            "+----+--------------------+-------+\n",
            "\n"
          ]
        }
      ]
    },
    {
      "cell_type": "code",
      "source": [
        "# общий показатель colName за год по штатам\n",
        "def totalInYearColumn (dataYear, colName):\n",
        "\n",
        "  w = Window.orderBy(F.col('Province/State'), F.col('year'))\n",
        "\n",
        "  cond = ((F.col('Province/State') == F.lag(F.col('Province/State'), 1).over(w)))\n",
        "\n",
        "  df1 = dataYear.withColumn('prev', F.when( cond , F.lag(F.col(colName)).over(w)))\n",
        "\n",
        "  df1 = df1.withColumn('Count', F.when(F.col('prev').isNull(), F.col(colName)).otherwise(F.col(colName) - F.col('prev')))\n",
        "\n",
        "  df1 = df1.drop('prev')\n",
        "\n",
        "  return df1\n"
      ],
      "metadata": {
        "id": "E_RvCblLiukT"
      },
      "execution_count": null,
      "outputs": []
    },
    {
      "cell_type": "code",
      "source": [
        "# общая смертность за каждый год в каждом штате\n",
        "dataYearDeathState = totalInYearColumn(dataYearDeath, 'Total Death')\n",
        "\n",
        "dataYearDeathState.show()\n",
        "\n",
        "# общее число выявленных случаев за каждый год в каждом штате\n",
        "\n",
        "dataYearConfirmedState = totalInYearColumn(dataYearConfirmed, 'Total Confirmed')\n",
        "\n",
        "dataYearConfirmedState.show()"
      ],
      "metadata": {
        "colab": {
          "base_uri": "https://localhost:8080/"
        },
        "id": "h5Nag_jYoIP5",
        "outputId": "4c11486d-b168-4089-aa88-23233e1a75b4"
      },
      "execution_count": null,
      "outputs": [
        {
          "output_type": "stream",
          "name": "stdout",
          "text": [
            "+----+--------------+-----------+-----+\n",
            "|year|Province/State|Total Death|Count|\n",
            "+----+--------------+-----------+-----+\n",
            "|2020|       Alabama|        697|  697|\n",
            "|2021|       Alabama|       2024| 1327|\n",
            "|2022|       Alabama|       2409|  385|\n",
            "|2020|        Alaska|        120|  120|\n",
            "|2021|        Alaska|        427|  307|\n",
            "|2022|        Alaska|        561|  134|\n",
            "|2020|American Samoa|          0|    0|\n",
            "|2021|American Samoa|          0|    0|\n",
            "|2022|American Samoa|         33|   33|\n",
            "|2020|       Arizona|       5110| 5110|\n",
            "|2021|       Arizona|      13675| 8565|\n",
            "|2022|       Arizona|      17726| 4051|\n",
            "|2020|      Arkansas|        390|  390|\n",
            "|2021|      Arkansas|        966|  576|\n",
            "|2022|      Arkansas|       1221|  255|\n",
            "|2020|    California|      10359|10359|\n",
            "|2021|    California|      27637|17278|\n",
            "|2022|    California|      32991| 5354|\n",
            "|2020|      Colorado|        667|  667|\n",
            "|2021|      Colorado|       1404|  737|\n",
            "+----+--------------+-----------+-----+\n",
            "only showing top 20 rows\n",
            "\n",
            "+----+--------------+---------------+-------+\n",
            "|year|Province/State|Total Confirmed|  Count|\n",
            "+----+--------------+---------------+-------+\n",
            "|2020|       Alabama|          52339|  52339|\n",
            "|2021|       Alabama|         126583|  74244|\n",
            "|2022|       Alabama|         211376|  84793|\n",
            "|2020|        Alaska|          22922|  22922|\n",
            "|2021|        Alaska|          63763|  40841|\n",
            "|2022|        Alaska|         118374|  54611|\n",
            "|2020|American Samoa|              0|      0|\n",
            "|2021|American Samoa|             11|     11|\n",
            "|2022|American Samoa|           8042|   8031|\n",
            "|2020|       Arizona|         318827| 318827|\n",
            "|2021|       Arizona|         870996| 552169|\n",
            "|2022|       Arizona|        1406462| 535466|\n",
            "|2020|      Arkansas|          24662|  24662|\n",
            "|2021|      Arkansas|          65856|  41194|\n",
            "|2022|      Arkansas|         117387|  51531|\n",
            "|2020|    California|         771519| 771519|\n",
            "|2021|    California|        1696582| 925063|\n",
            "|2022|    California|        3371673|1675091|\n",
            "|2020|      Colorado|          47645|  47645|\n",
            "|2021|      Colorado|         125644|  77999|\n",
            "+----+--------------+---------------+-------+\n",
            "only showing top 20 rows\n",
            "\n"
          ]
        }
      ]
    }
  ]
}